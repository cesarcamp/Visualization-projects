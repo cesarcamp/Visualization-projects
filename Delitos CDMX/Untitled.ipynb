{
 "cells": [
  {
   "cell_type": "code",
   "execution_count": 1,
   "metadata": {},
   "outputs": [],
   "source": [
    "import pandas as pd"
   ]
  },
  {
   "cell_type": "code",
   "execution_count": 18,
   "metadata": {},
   "outputs": [],
   "source": [
    "df = pd.read_csv(\"carpetas-de-investigacion-pgj-de-la-ciudad-de-mexico.csv\")"
   ]
  },
  {
   "cell_type": "code",
   "execution_count": 20,
   "metadata": {},
   "outputs": [],
   "source": [
    "df.dropna(subset=[\"fecha_hechos\"], inplace = True)"
   ]
  },
  {
   "cell_type": "code",
   "execution_count": 29,
   "metadata": {},
   "outputs": [],
   "source": [
    "df.fecha_hechos = pd.to_datetime(df.fecha_hechos, errors=\"coerce\")"
   ]
  },
  {
   "cell_type": "code",
   "execution_count": 30,
   "metadata": {},
   "outputs": [
    {
     "name": "stdout",
     "output_type": "stream",
     "text": [
      "<class 'pandas.core.frame.DataFrame'>\n",
      "Int64Index: 1030061 entries, 0 to 1030201\n",
      "Data columns (total 18 columns):\n",
      " #   Column                Non-Null Count    Dtype         \n",
      "---  ------                --------------    -----         \n",
      " 0   ao_hechos             1029801 non-null  float64       \n",
      " 1   mes_hechos            1029801 non-null  object        \n",
      " 2   fecha_hechos          1029801 non-null  datetime64[ns]\n",
      " 3   delito                1030061 non-null  object        \n",
      " 4   categoria_delito      1030061 non-null  object        \n",
      " 5   fiscalia              1030061 non-null  object        \n",
      " 6   agencia               1030061 non-null  object        \n",
      " 7   unidad_investigacion  1029836 non-null  object        \n",
      " 8   alcaldia_hechos       1026973 non-null  object        \n",
      " 9   colonia_hechos        988608 non-null   object        \n",
      " 10  ao_inicio             1030061 non-null  int64         \n",
      " 11  mes_inicio            1030061 non-null  object        \n",
      " 12  fecha_inicio          1030061 non-null  object        \n",
      " 13  calle_hechos          1027327 non-null  object        \n",
      " 14  calle_hechos2         409538 non-null   object        \n",
      " 15  longitud              989576 non-null   float64       \n",
      " 16  latitud               989576 non-null   float64       \n",
      " 17  geopoint              989576 non-null   object        \n",
      "dtypes: datetime64[ns](1), float64(3), int64(1), object(13)\n",
      "memory usage: 149.3+ MB\n"
     ]
    }
   ],
   "source": [
    "df.info()"
   ]
  },
  {
   "cell_type": "code",
   "execution_count": 33,
   "metadata": {},
   "outputs": [],
   "source": [
    "df[\"year\"]= df[\"fecha_hechos\"].dt.year"
   ]
  },
  {
   "cell_type": "code",
   "execution_count": 35,
   "metadata": {},
   "outputs": [],
   "source": [
    "df[\"month\"]= df[\"fecha_hechos\"].dt.month\n",
    "df[\"week\"]= df[\"fecha_hechos\"].dt.week\n",
    "df[\"day\"]= df[\"fecha_hechos\"].dt.day"
   ]
  },
  {
   "cell_type": "code",
   "execution_count": 37,
   "metadata": {},
   "outputs": [],
   "source": [
    "df.to_csv(\"delitos_cdmx.csv\")"
   ]
  },
  {
   "cell_type": "code",
   "execution_count": null,
   "metadata": {},
   "outputs": [],
   "source": []
  }
 ],
 "metadata": {
  "kernelspec": {
   "display_name": "Python 3",
   "language": "python",
   "name": "python3"
  },
  "language_info": {
   "codemirror_mode": {
    "name": "ipython",
    "version": 3
   },
   "file_extension": ".py",
   "mimetype": "text/x-python",
   "name": "python",
   "nbconvert_exporter": "python",
   "pygments_lexer": "ipython3",
   "version": "3.7.7"
  }
 },
 "nbformat": 4,
 "nbformat_minor": 4
}
